{
 "cells": [
  {
   "cell_type": "code",
   "execution_count": 1,
   "id": "fa306347-82ef-423d-a54f-46de06a9ed5f",
   "metadata": {},
   "outputs": [],
   "source": [
    "import pandas as pd \n",
    "import numpy as np "
   ]
  },
  {
   "cell_type": "code",
   "execution_count": 2,
   "id": "a9606554-3020-41c0-8c2d-c282e98091f4",
   "metadata": {},
   "outputs": [
    {
     "data": {
      "text/html": [
       "<div>\n",
       "<style scoped>\n",
       "    .dataframe tbody tr th:only-of-type {\n",
       "        vertical-align: middle;\n",
       "    }\n",
       "\n",
       "    .dataframe tbody tr th {\n",
       "        vertical-align: top;\n",
       "    }\n",
       "\n",
       "    .dataframe thead th {\n",
       "        text-align: right;\n",
       "    }\n",
       "</style>\n",
       "<table border=\"1\" class=\"dataframe\">\n",
       "  <thead>\n",
       "    <tr style=\"text-align: right;\">\n",
       "      <th></th>\n",
       "      <th>Area</th>\n",
       "      <th>Room</th>\n",
       "      <th>Parking</th>\n",
       "      <th>Warehouse</th>\n",
       "      <th>Elevator</th>\n",
       "      <th>Address</th>\n",
       "      <th>Price</th>\n",
       "      <th>Price(USD)</th>\n",
       "    </tr>\n",
       "  </thead>\n",
       "  <tbody>\n",
       "    <tr>\n",
       "      <th>0</th>\n",
       "      <td>63</td>\n",
       "      <td>1</td>\n",
       "      <td>True</td>\n",
       "      <td>True</td>\n",
       "      <td>True</td>\n",
       "      <td>Shahran</td>\n",
       "      <td>1.850000e+09</td>\n",
       "      <td>61666.67</td>\n",
       "    </tr>\n",
       "    <tr>\n",
       "      <th>1</th>\n",
       "      <td>60</td>\n",
       "      <td>1</td>\n",
       "      <td>True</td>\n",
       "      <td>True</td>\n",
       "      <td>True</td>\n",
       "      <td>Shahran</td>\n",
       "      <td>1.850000e+09</td>\n",
       "      <td>61666.67</td>\n",
       "    </tr>\n",
       "    <tr>\n",
       "      <th>2</th>\n",
       "      <td>79</td>\n",
       "      <td>2</td>\n",
       "      <td>True</td>\n",
       "      <td>True</td>\n",
       "      <td>True</td>\n",
       "      <td>Pardis</td>\n",
       "      <td>5.500000e+08</td>\n",
       "      <td>18333.33</td>\n",
       "    </tr>\n",
       "    <tr>\n",
       "      <th>3</th>\n",
       "      <td>95</td>\n",
       "      <td>2</td>\n",
       "      <td>True</td>\n",
       "      <td>True</td>\n",
       "      <td>True</td>\n",
       "      <td>Shahrake Qods</td>\n",
       "      <td>9.025000e+08</td>\n",
       "      <td>30083.33</td>\n",
       "    </tr>\n",
       "    <tr>\n",
       "      <th>4</th>\n",
       "      <td>123</td>\n",
       "      <td>2</td>\n",
       "      <td>True</td>\n",
       "      <td>True</td>\n",
       "      <td>True</td>\n",
       "      <td>Shahrake Gharb</td>\n",
       "      <td>7.000000e+09</td>\n",
       "      <td>233333.33</td>\n",
       "    </tr>\n",
       "    <tr>\n",
       "      <th>...</th>\n",
       "      <td>...</td>\n",
       "      <td>...</td>\n",
       "      <td>...</td>\n",
       "      <td>...</td>\n",
       "      <td>...</td>\n",
       "      <td>...</td>\n",
       "      <td>...</td>\n",
       "      <td>...</td>\n",
       "    </tr>\n",
       "    <tr>\n",
       "      <th>3474</th>\n",
       "      <td>86</td>\n",
       "      <td>2</td>\n",
       "      <td>True</td>\n",
       "      <td>True</td>\n",
       "      <td>True</td>\n",
       "      <td>Southern Janatabad</td>\n",
       "      <td>3.500000e+09</td>\n",
       "      <td>116666.67</td>\n",
       "    </tr>\n",
       "    <tr>\n",
       "      <th>3475</th>\n",
       "      <td>83</td>\n",
       "      <td>2</td>\n",
       "      <td>True</td>\n",
       "      <td>True</td>\n",
       "      <td>True</td>\n",
       "      <td>Niavaran</td>\n",
       "      <td>6.800000e+09</td>\n",
       "      <td>226666.67</td>\n",
       "    </tr>\n",
       "    <tr>\n",
       "      <th>3476</th>\n",
       "      <td>75</td>\n",
       "      <td>2</td>\n",
       "      <td>False</td>\n",
       "      <td>False</td>\n",
       "      <td>False</td>\n",
       "      <td>Parand</td>\n",
       "      <td>3.650000e+08</td>\n",
       "      <td>12166.67</td>\n",
       "    </tr>\n",
       "    <tr>\n",
       "      <th>3477</th>\n",
       "      <td>105</td>\n",
       "      <td>2</td>\n",
       "      <td>True</td>\n",
       "      <td>True</td>\n",
       "      <td>True</td>\n",
       "      <td>Dorous</td>\n",
       "      <td>5.600000e+09</td>\n",
       "      <td>186666.67</td>\n",
       "    </tr>\n",
       "    <tr>\n",
       "      <th>3478</th>\n",
       "      <td>82</td>\n",
       "      <td>2</td>\n",
       "      <td>False</td>\n",
       "      <td>True</td>\n",
       "      <td>True</td>\n",
       "      <td>Parand</td>\n",
       "      <td>3.600000e+08</td>\n",
       "      <td>12000.00</td>\n",
       "    </tr>\n",
       "  </tbody>\n",
       "</table>\n",
       "<p>3479 rows × 8 columns</p>\n",
       "</div>"
      ],
      "text/plain": [
       "     Area  Room  Parking  Warehouse  Elevator             Address  \\\n",
       "0      63     1     True       True      True             Shahran   \n",
       "1      60     1     True       True      True             Shahran   \n",
       "2      79     2     True       True      True              Pardis   \n",
       "3      95     2     True       True      True       Shahrake Qods   \n",
       "4     123     2     True       True      True      Shahrake Gharb   \n",
       "...   ...   ...      ...        ...       ...                 ...   \n",
       "3474   86     2     True       True      True  Southern Janatabad   \n",
       "3475   83     2     True       True      True            Niavaran   \n",
       "3476   75     2    False      False     False              Parand   \n",
       "3477  105     2     True       True      True              Dorous   \n",
       "3478   82     2    False       True      True              Parand   \n",
       "\n",
       "             Price  Price(USD)  \n",
       "0     1.850000e+09    61666.67  \n",
       "1     1.850000e+09    61666.67  \n",
       "2     5.500000e+08    18333.33  \n",
       "3     9.025000e+08    30083.33  \n",
       "4     7.000000e+09   233333.33  \n",
       "...            ...         ...  \n",
       "3474  3.500000e+09   116666.67  \n",
       "3475  6.800000e+09   226666.67  \n",
       "3476  3.650000e+08    12166.67  \n",
       "3477  5.600000e+09   186666.67  \n",
       "3478  3.600000e+08    12000.00  \n",
       "\n",
       "[3479 rows x 8 columns]"
      ]
     },
     "execution_count": 2,
     "metadata": {},
     "output_type": "execute_result"
    }
   ],
   "source": [
    "mydata = pd.read_csv('housePrice.csv')\n",
    "mydata"
   ]
  },
  {
   "cell_type": "code",
   "execution_count": 3,
   "id": "2b3eb69a-17cf-4add-846b-0ef6ea40b7a1",
   "metadata": {},
   "outputs": [
    {
     "data": {
      "text/plain": [
       "Area           0\n",
       "Room           0\n",
       "Parking        0\n",
       "Warehouse      0\n",
       "Elevator       0\n",
       "Address       23\n",
       "Price          0\n",
       "Price(USD)     0\n",
       "dtype: int64"
      ]
     },
     "execution_count": 3,
     "metadata": {},
     "output_type": "execute_result"
    }
   ],
   "source": [
    "mydata.isnull().sum()"
   ]
  },
  {
   "cell_type": "code",
   "execution_count": 4,
   "id": "ea2ec099-bde5-40f5-94b9-dea20e8eb3b5",
   "metadata": {},
   "outputs": [
    {
     "data": {
      "text/plain": [
       "Area           object\n",
       "Room            int64\n",
       "Parking          bool\n",
       "Warehouse        bool\n",
       "Elevator         bool\n",
       "Address        object\n",
       "Price         float64\n",
       "Price(USD)    float64\n",
       "dtype: object"
      ]
     },
     "execution_count": 4,
     "metadata": {},
     "output_type": "execute_result"
    }
   ],
   "source": [
    "mydata.dtypes"
   ]
  },
  {
   "cell_type": "code",
   "execution_count": 5,
   "id": "2f119265-effb-43bf-a69d-b8b8abd33aaa",
   "metadata": {},
   "outputs": [],
   "source": [
    "mydata['Area'] =pd.to_numeric( mydata.Area ,errors='coerce')\n",
    "mydata.replace({True:1,False:0},inplace=True)"
   ]
  },
  {
   "cell_type": "code",
   "execution_count": 6,
   "id": "0b2978b1-7382-4bb8-9736-5c3a0c9c05b9",
   "metadata": {},
   "outputs": [
    {
     "data": {
      "text/plain": [
       "Area          float64\n",
       "Room            int64\n",
       "Parking         int64\n",
       "Warehouse       int64\n",
       "Elevator        int64\n",
       "Address        object\n",
       "Price         float64\n",
       "Price(USD)    float64\n",
       "dtype: object"
      ]
     },
     "execution_count": 6,
     "metadata": {},
     "output_type": "execute_result"
    }
   ],
   "source": [
    "mydata.dtypes"
   ]
  },
  {
   "cell_type": "code",
   "execution_count": 7,
   "id": "94b731e8-e663-4a3e-b04c-e53384219439",
   "metadata": {},
   "outputs": [
    {
     "data": {
      "text/plain": [
       "Area           6\n",
       "Room           0\n",
       "Parking        0\n",
       "Warehouse      0\n",
       "Elevator       0\n",
       "Address       23\n",
       "Price          0\n",
       "Price(USD)     0\n",
       "dtype: int64"
      ]
     },
     "execution_count": 7,
     "metadata": {},
     "output_type": "execute_result"
    }
   ],
   "source": [
    "mydata.isnull().sum()"
   ]
  },
  {
   "cell_type": "code",
   "execution_count": 8,
   "id": "92db98f3-52bc-4da8-acf9-91fcb5501171",
   "metadata": {},
   "outputs": [
    {
     "data": {
      "text/plain": [
       "Area          0\n",
       "Room          0\n",
       "Parking       0\n",
       "Warehouse     0\n",
       "Elevator      0\n",
       "Address       0\n",
       "Price         0\n",
       "Price(USD)    0\n",
       "dtype: int64"
      ]
     },
     "execution_count": 8,
     "metadata": {},
     "output_type": "execute_result"
    }
   ],
   "source": [
    "mydata.drop(index=mydata.Address[mydata.Address.isnull()].index , inplace =True)\n",
    "mydata.drop(index=mydata.Area[mydata.Area.isnull()].index , inplace =True)\n",
    "mydata.isnull().sum()"
   ]
  },
  {
   "cell_type": "code",
   "execution_count": 9,
   "id": "ed947dee-7f88-4678-8f89-b5a604c16955",
   "metadata": {},
   "outputs": [
    {
     "data": {
      "text/plain": [
       "(3242, 8)"
      ]
     },
     "execution_count": 9,
     "metadata": {},
     "output_type": "execute_result"
    }
   ],
   "source": [
    "mydata.drop_duplicates(inplace=True)\n",
    "mydata.shape"
   ]
  },
  {
   "cell_type": "code",
   "execution_count": 10,
   "id": "bf92dad4-2c57-420f-a55f-ee0e1cdcf4ee",
   "metadata": {},
   "outputs": [],
   "source": [
    "mydata.reset_index(drop=True,inplace=True)"
   ]
  },
  {
   "cell_type": "code",
   "execution_count": 11,
   "id": "d8b99fc6-7c07-4466-ab1a-e5b5726b9f7f",
   "metadata": {},
   "outputs": [
    {
     "data": {
      "text/plain": [
       "0        41\n",
       "1        41\n",
       "2       149\n",
       "3         9\n",
       "4        56\n",
       "       ... \n",
       "3237     13\n",
       "3238      3\n",
       "3239     28\n",
       "3240    124\n",
       "3241      6\n",
       "Name: Address, Length: 3242, dtype: int64"
      ]
     },
     "execution_count": 11,
     "metadata": {},
     "output_type": "execute_result"
    }
   ],
   "source": [
    "address = set(mydata.Address)\n",
    "Address ={}\n",
    "for i , j in enumerate(address,start=1):\n",
    "    x ={j:i}\n",
    "    Address.update(x)\n",
    "    \n",
    "number_address = mydata.Address.map(lambda s : Address.get(s) if s in Address else s)\n",
    "number_address"
   ]
  },
  {
   "cell_type": "code",
   "execution_count": 12,
   "id": "4bf0f393-2bff-424d-a43c-533727c98a0b",
   "metadata": {},
   "outputs": [
    {
     "data": {
      "text/plain": [
       "0       3.668519e+07\n",
       "1       3.668519e+07\n",
       "2       8.204639e+06\n",
       "3       1.000572e+07\n",
       "4       8.625069e+07\n",
       "            ...     \n",
       "3237    3.738220e+07\n",
       "3238    3.945778e+07\n",
       "3239    1.106100e+08\n",
       "3240    9.718675e+07\n",
       "3241    6.521264e+06\n",
       "Name: Address, Length: 3242, dtype: float64"
      ]
     },
     "execution_count": 12,
     "metadata": {},
     "output_type": "execute_result"
    }
   ],
   "source": [
    "address = set(mydata.Address)\n",
    "Address ={}\n",
    "for i in address : \n",
    "    j = mydata[mydata['Address']==i ].Price.sum()/mydata[mydata['Address']==i].Area.sum()\n",
    "    x = {i:j}\n",
    "    Address.update(x)\n",
    "\n",
    "avrage_price = mydata.Address.map(lambda s : Address.get(s)if s in Address else s)\n",
    "avrage_price"
   ]
  },
  {
   "cell_type": "code",
   "execution_count": 13,
   "id": "bec319df-5515-41cc-a164-cf976b6dd483",
   "metadata": {},
   "outputs": [],
   "source": [
    "mydata.drop(mydata[(mydata['Area']>500)& (mydata['Room']<4)].index,axis = 0 , inplace=True)"
   ]
  },
  {
   "cell_type": "code",
   "execution_count": null,
   "id": "3cbe7703-0eca-41a6-88c5-204d0bc09703",
   "metadata": {},
   "outputs": [],
   "source": []
  },
  {
   "cell_type": "code",
   "execution_count": 14,
   "id": "b989f206-533c-44fb-b6c9-ca488b5b59c3",
   "metadata": {},
   "outputs": [],
   "source": [
    "y = np.asarray(mydata['Price'])"
   ]
  },
  {
   "cell_type": "code",
   "execution_count": 20,
   "id": "17b62ef8-0900-459a-b27b-8bea1057314d",
   "metadata": {},
   "outputs": [
    {
     "data": {
      "text/html": [
       "<div>\n",
       "<style scoped>\n",
       "    .dataframe tbody tr th:only-of-type {\n",
       "        vertical-align: middle;\n",
       "    }\n",
       "\n",
       "    .dataframe tbody tr th {\n",
       "        vertical-align: top;\n",
       "    }\n",
       "\n",
       "    .dataframe thead th {\n",
       "        text-align: right;\n",
       "    }\n",
       "</style>\n",
       "<table border=\"1\" class=\"dataframe\">\n",
       "  <thead>\n",
       "    <tr style=\"text-align: right;\">\n",
       "      <th></th>\n",
       "      <th>Area</th>\n",
       "      <th>Room</th>\n",
       "      <th>Parking</th>\n",
       "      <th>Warehouse</th>\n",
       "      <th>Elevator</th>\n",
       "      <th>Address</th>\n",
       "    </tr>\n",
       "  </thead>\n",
       "  <tbody>\n",
       "    <tr>\n",
       "      <th>0</th>\n",
       "      <td>63.0</td>\n",
       "      <td>1</td>\n",
       "      <td>1</td>\n",
       "      <td>1</td>\n",
       "      <td>1</td>\n",
       "      <td>41</td>\n",
       "    </tr>\n",
       "    <tr>\n",
       "      <th>1</th>\n",
       "      <td>60.0</td>\n",
       "      <td>1</td>\n",
       "      <td>1</td>\n",
       "      <td>1</td>\n",
       "      <td>1</td>\n",
       "      <td>41</td>\n",
       "    </tr>\n",
       "    <tr>\n",
       "      <th>2</th>\n",
       "      <td>79.0</td>\n",
       "      <td>2</td>\n",
       "      <td>1</td>\n",
       "      <td>1</td>\n",
       "      <td>1</td>\n",
       "      <td>149</td>\n",
       "    </tr>\n",
       "    <tr>\n",
       "      <th>3</th>\n",
       "      <td>95.0</td>\n",
       "      <td>2</td>\n",
       "      <td>1</td>\n",
       "      <td>1</td>\n",
       "      <td>1</td>\n",
       "      <td>9</td>\n",
       "    </tr>\n",
       "    <tr>\n",
       "      <th>4</th>\n",
       "      <td>123.0</td>\n",
       "      <td>2</td>\n",
       "      <td>1</td>\n",
       "      <td>1</td>\n",
       "      <td>1</td>\n",
       "      <td>56</td>\n",
       "    </tr>\n",
       "    <tr>\n",
       "      <th>...</th>\n",
       "      <td>...</td>\n",
       "      <td>...</td>\n",
       "      <td>...</td>\n",
       "      <td>...</td>\n",
       "      <td>...</td>\n",
       "      <td>...</td>\n",
       "    </tr>\n",
       "    <tr>\n",
       "      <th>3237</th>\n",
       "      <td>63.0</td>\n",
       "      <td>1</td>\n",
       "      <td>1</td>\n",
       "      <td>1</td>\n",
       "      <td>0</td>\n",
       "      <td>13</td>\n",
       "    </tr>\n",
       "    <tr>\n",
       "      <th>3238</th>\n",
       "      <td>86.0</td>\n",
       "      <td>2</td>\n",
       "      <td>1</td>\n",
       "      <td>1</td>\n",
       "      <td>1</td>\n",
       "      <td>3</td>\n",
       "    </tr>\n",
       "    <tr>\n",
       "      <th>3239</th>\n",
       "      <td>83.0</td>\n",
       "      <td>2</td>\n",
       "      <td>1</td>\n",
       "      <td>1</td>\n",
       "      <td>1</td>\n",
       "      <td>28</td>\n",
       "    </tr>\n",
       "    <tr>\n",
       "      <th>3240</th>\n",
       "      <td>105.0</td>\n",
       "      <td>2</td>\n",
       "      <td>1</td>\n",
       "      <td>1</td>\n",
       "      <td>1</td>\n",
       "      <td>124</td>\n",
       "    </tr>\n",
       "    <tr>\n",
       "      <th>3241</th>\n",
       "      <td>82.0</td>\n",
       "      <td>2</td>\n",
       "      <td>0</td>\n",
       "      <td>1</td>\n",
       "      <td>1</td>\n",
       "      <td>6</td>\n",
       "    </tr>\n",
       "  </tbody>\n",
       "</table>\n",
       "<p>3233 rows × 6 columns</p>\n",
       "</div>"
      ],
      "text/plain": [
       "       Area  Room  Parking  Warehouse  Elevator  Address\n",
       "0      63.0     1        1          1         1       41\n",
       "1      60.0     1        1          1         1       41\n",
       "2      79.0     2        1          1         1      149\n",
       "3      95.0     2        1          1         1        9\n",
       "4     123.0     2        1          1         1       56\n",
       "...     ...   ...      ...        ...       ...      ...\n",
       "3237   63.0     1        1          1         0       13\n",
       "3238   86.0     2        1          1         1        3\n",
       "3239   83.0     2        1          1         1       28\n",
       "3240  105.0     2        1          1         1      124\n",
       "3241   82.0     2        0          1         1        6\n",
       "\n",
       "[3233 rows x 6 columns]"
      ]
     },
     "execution_count": 20,
     "metadata": {},
     "output_type": "execute_result"
    }
   ],
   "source": [
    "for i in mydata.columns[6:] :\n",
    "    mydata.drop(i , axis = 1 , inplace=True)\n",
    "mydatax"
   ]
  },
  {
   "cell_type": "code",
   "execution_count": 21,
   "id": "9fdd7d49-c167-4f24-8012-21b237617e77",
   "metadata": {},
   "outputs": [],
   "source": [
    "mydata['avg_price']=avrage_price\n",
    "mydata['Address']= number_address"
   ]
  },
  {
   "cell_type": "code",
   "execution_count": 22,
   "id": "cec40edf-ed19-4f49-9212-d6e50ff46ddf",
   "metadata": {},
   "outputs": [
    {
     "data": {
      "text/html": [
       "<div>\n",
       "<style scoped>\n",
       "    .dataframe tbody tr th:only-of-type {\n",
       "        vertical-align: middle;\n",
       "    }\n",
       "\n",
       "    .dataframe tbody tr th {\n",
       "        vertical-align: top;\n",
       "    }\n",
       "\n",
       "    .dataframe thead th {\n",
       "        text-align: right;\n",
       "    }\n",
       "</style>\n",
       "<table border=\"1\" class=\"dataframe\">\n",
       "  <thead>\n",
       "    <tr style=\"text-align: right;\">\n",
       "      <th></th>\n",
       "      <th>Area</th>\n",
       "      <th>Room</th>\n",
       "      <th>Parking</th>\n",
       "      <th>Warehouse</th>\n",
       "      <th>Elevator</th>\n",
       "      <th>Address</th>\n",
       "      <th>avg_price</th>\n",
       "    </tr>\n",
       "  </thead>\n",
       "  <tbody>\n",
       "    <tr>\n",
       "      <th>0</th>\n",
       "      <td>63.0</td>\n",
       "      <td>1</td>\n",
       "      <td>1</td>\n",
       "      <td>1</td>\n",
       "      <td>1</td>\n",
       "      <td>41</td>\n",
       "      <td>3.668519e+07</td>\n",
       "    </tr>\n",
       "    <tr>\n",
       "      <th>1</th>\n",
       "      <td>60.0</td>\n",
       "      <td>1</td>\n",
       "      <td>1</td>\n",
       "      <td>1</td>\n",
       "      <td>1</td>\n",
       "      <td>41</td>\n",
       "      <td>3.668519e+07</td>\n",
       "    </tr>\n",
       "    <tr>\n",
       "      <th>2</th>\n",
       "      <td>79.0</td>\n",
       "      <td>2</td>\n",
       "      <td>1</td>\n",
       "      <td>1</td>\n",
       "      <td>1</td>\n",
       "      <td>149</td>\n",
       "      <td>8.204639e+06</td>\n",
       "    </tr>\n",
       "    <tr>\n",
       "      <th>3</th>\n",
       "      <td>95.0</td>\n",
       "      <td>2</td>\n",
       "      <td>1</td>\n",
       "      <td>1</td>\n",
       "      <td>1</td>\n",
       "      <td>9</td>\n",
       "      <td>1.000572e+07</td>\n",
       "    </tr>\n",
       "    <tr>\n",
       "      <th>4</th>\n",
       "      <td>123.0</td>\n",
       "      <td>2</td>\n",
       "      <td>1</td>\n",
       "      <td>1</td>\n",
       "      <td>1</td>\n",
       "      <td>56</td>\n",
       "      <td>8.625069e+07</td>\n",
       "    </tr>\n",
       "    <tr>\n",
       "      <th>...</th>\n",
       "      <td>...</td>\n",
       "      <td>...</td>\n",
       "      <td>...</td>\n",
       "      <td>...</td>\n",
       "      <td>...</td>\n",
       "      <td>...</td>\n",
       "      <td>...</td>\n",
       "    </tr>\n",
       "    <tr>\n",
       "      <th>3237</th>\n",
       "      <td>63.0</td>\n",
       "      <td>1</td>\n",
       "      <td>1</td>\n",
       "      <td>1</td>\n",
       "      <td>0</td>\n",
       "      <td>13</td>\n",
       "      <td>3.738220e+07</td>\n",
       "    </tr>\n",
       "    <tr>\n",
       "      <th>3238</th>\n",
       "      <td>86.0</td>\n",
       "      <td>2</td>\n",
       "      <td>1</td>\n",
       "      <td>1</td>\n",
       "      <td>1</td>\n",
       "      <td>3</td>\n",
       "      <td>3.945778e+07</td>\n",
       "    </tr>\n",
       "    <tr>\n",
       "      <th>3239</th>\n",
       "      <td>83.0</td>\n",
       "      <td>2</td>\n",
       "      <td>1</td>\n",
       "      <td>1</td>\n",
       "      <td>1</td>\n",
       "      <td>28</td>\n",
       "      <td>1.106100e+08</td>\n",
       "    </tr>\n",
       "    <tr>\n",
       "      <th>3240</th>\n",
       "      <td>105.0</td>\n",
       "      <td>2</td>\n",
       "      <td>1</td>\n",
       "      <td>1</td>\n",
       "      <td>1</td>\n",
       "      <td>124</td>\n",
       "      <td>9.718675e+07</td>\n",
       "    </tr>\n",
       "    <tr>\n",
       "      <th>3241</th>\n",
       "      <td>82.0</td>\n",
       "      <td>2</td>\n",
       "      <td>0</td>\n",
       "      <td>1</td>\n",
       "      <td>1</td>\n",
       "      <td>6</td>\n",
       "      <td>6.521264e+06</td>\n",
       "    </tr>\n",
       "  </tbody>\n",
       "</table>\n",
       "<p>3233 rows × 7 columns</p>\n",
       "</div>"
      ],
      "text/plain": [
       "       Area  Room  Parking  Warehouse  Elevator  Address     avg_price\n",
       "0      63.0     1        1          1         1       41  3.668519e+07\n",
       "1      60.0     1        1          1         1       41  3.668519e+07\n",
       "2      79.0     2        1          1         1      149  8.204639e+06\n",
       "3      95.0     2        1          1         1        9  1.000572e+07\n",
       "4     123.0     2        1          1         1       56  8.625069e+07\n",
       "...     ...   ...      ...        ...       ...      ...           ...\n",
       "3237   63.0     1        1          1         0       13  3.738220e+07\n",
       "3238   86.0     2        1          1         1        3  3.945778e+07\n",
       "3239   83.0     2        1          1         1       28  1.106100e+08\n",
       "3240  105.0     2        1          1         1      124  9.718675e+07\n",
       "3241   82.0     2        0          1         1        6  6.521264e+06\n",
       "\n",
       "[3233 rows x 7 columns]"
      ]
     },
     "execution_count": 22,
     "metadata": {},
     "output_type": "execute_result"
    }
   ],
   "source": [
    "mydata"
   ]
  },
  {
   "cell_type": "code",
   "execution_count": 23,
   "id": "79131f31-e212-4c54-9a15-eb4be8b6dee9",
   "metadata": {},
   "outputs": [],
   "source": [
    "X = mydata \n",
    "from sklearn.preprocessing import scale\n",
    "x = scale(X)"
   ]
  },
  {
   "cell_type": "code",
   "execution_count": 24,
   "id": "9e52b045-9609-4560-9ffb-67f6a3d200cc",
   "metadata": {},
   "outputs": [
    {
     "data": {
      "text/plain": [
       "array([[-0.67549701, -1.42229262,  0.42772554, ...,  0.51993652,\n",
       "        -0.90339607, -0.23882138],\n",
       "       [-0.72253132, -1.42229262,  0.42772554, ...,  0.51993652,\n",
       "        -0.90339607, -0.23882138],\n",
       "       [-0.4246473 , -0.11447918,  0.42772554, ...,  0.51993652,\n",
       "         0.99647315, -1.23653309],\n",
       "       ...,\n",
       "       [-0.36193488, -0.11447918,  0.42772554, ...,  0.51993652,\n",
       "        -1.13208403,  2.35086243],\n",
       "       [-0.01701654, -0.11447918,  0.42772554, ...,  0.51993652,\n",
       "         0.5566886 ,  1.88062901],\n",
       "       [-0.37761299, -0.11447918, -2.33794782, ...,  0.51993652,\n",
       "        -1.51909443, -1.29550398]])"
      ]
     },
     "execution_count": 24,
     "metadata": {},
     "output_type": "execute_result"
    }
   ],
   "source": [
    "x"
   ]
  },
  {
   "cell_type": "code",
   "execution_count": 27,
   "id": "bf57bf5b-0a52-4dff-b1fa-062e8a27cb88",
   "metadata": {},
   "outputs": [],
   "source": [
    "from sklearn.linear_model import LinearRegression\n",
    "from sklearn.model_selection import train_test_split"
   ]
  },
  {
   "cell_type": "code",
   "execution_count": 30,
   "id": "8a7ad7ae-6779-4836-a184-4d1fcd6defeb",
   "metadata": {},
   "outputs": [],
   "source": [
    "x_train , x_test , y_train , y_test = train_test_split(x,y ,test_size=0.2 , random_state=30)\n",
    "reg = LinearRegression()\n",
    "reg.fit(x_train , y_train)\n",
    "y_pred = reg.predict(x_test)\n"
   ]
  },
  {
   "cell_type": "code",
   "execution_count": 32,
   "id": "644c4abc-310a-4a37-9c3e-82a85202381c",
   "metadata": {},
   "outputs": [
    {
     "data": {
      "text/plain": [
       "1.6719472437082583e+19"
      ]
     },
     "execution_count": 32,
     "metadata": {},
     "output_type": "execute_result"
    }
   ],
   "source": [
    "from sklearn.metrics import mean_squared_error\n",
    "mse = mean_squared_error(y_test, y_pred)\n",
    "mse"
   ]
  },
  {
   "cell_type": "code",
   "execution_count": 35,
   "id": "1a356a28-ca61-458d-a6df-39a334394902",
   "metadata": {},
   "outputs": [
    {
     "name": "stdout",
     "output_type": "stream",
     "text": [
      "score train : 0.7419098433661779\n",
      "score test: 0.7718545668102028\n"
     ]
    }
   ],
   "source": [
    "score_train = reg.score(x_train , y_train)\n",
    "score_test =reg.score(x_test,y_test)\n",
    "print('score train :',score_train)\n",
    "print('score test:',score_test)"
   ]
  },
  {
   "cell_type": "code",
   "execution_count": 36,
   "id": "5af07ce1-7c4e-4b18-8e19-b480a057cc91",
   "metadata": {},
   "outputs": [],
   "source": [
    "from sklearn.linear_model import Ridge"
   ]
  },
  {
   "cell_type": "code",
   "execution_count": 38,
   "id": "67a7bed6-0e32-44c5-8190-3252ec64307e",
   "metadata": {},
   "outputs": [
    {
     "data": {
      "text/plain": [
       "1.6719825970312057e+19"
      ]
     },
     "execution_count": 38,
     "metadata": {},
     "output_type": "execute_result"
    }
   ],
   "source": [
    "ridge = Ridge(alpha = 0.1)\n",
    "ridge.fit(x_train,y_train)\n",
    "ridge_pred = ridge.predict(x_test)\n",
    "ridge_mse = mean_squared_error(y_test , ridge_pred)\n",
    "ridge_mse"
   ]
  },
  {
   "cell_type": "code",
   "execution_count": 40,
   "id": "80a2fa49-48cc-4899-8504-f1c3a96f880f",
   "metadata": {},
   "outputs": [
    {
     "data": {
      "text/plain": [
       "0.741909841770954"
      ]
     },
     "execution_count": 40,
     "metadata": {},
     "output_type": "execute_result"
    }
   ],
   "source": [
    "ridge_score = ridge.score(x_train , y_train)\n",
    "ridge_score"
   ]
  },
  {
   "cell_type": "code",
   "execution_count": 41,
   "id": "7f2b4b31-8980-4de2-989c-d0d97a607a70",
   "metadata": {},
   "outputs": [],
   "source": [
    "from sklearn.linear_model import Lasso"
   ]
  },
  {
   "cell_type": "code",
   "execution_count": 42,
   "id": "bed105eb-e3ac-4201-ba67-85a1b37f967f",
   "metadata": {},
   "outputs": [
    {
     "data": {
      "text/plain": [
       "1.6719825970312057e+19"
      ]
     },
     "execution_count": 42,
     "metadata": {},
     "output_type": "execute_result"
    }
   ],
   "source": [
    "lasso = Lasso(alpha = 0.1)\n",
    "lasso.fit(x_train,y_train)\n",
    "lasso_pred = lasso.predict(x_test)\n",
    "lasso_mse = mean_squared_error(y_test , ridge_pred)\n",
    "lasso_mse"
   ]
  },
  {
   "cell_type": "code",
   "execution_count": 44,
   "id": "4251355c-0ec6-450e-b37e-98e95405b91a",
   "metadata": {},
   "outputs": [
    {
     "data": {
      "text/plain": [
       "0.7419098433661779"
      ]
     },
     "execution_count": 44,
     "metadata": {},
     "output_type": "execute_result"
    }
   ],
   "source": [
    "lasso_score_train = lasso.score(x_train , y_train)\n",
    "lasso_score_train"
   ]
  },
  {
   "cell_type": "code",
   "execution_count": 45,
   "id": "978fb90b-8b4b-416d-b375-9a846e958630",
   "metadata": {},
   "outputs": [
    {
     "data": {
      "text/plain": [
       "0.7718545668059641"
      ]
     },
     "execution_count": 45,
     "metadata": {},
     "output_type": "execute_result"
    }
   ],
   "source": [
    "lasso_score_test = lasso.score(x_test , y_test)\n",
    "lasso_score_test"
   ]
  },
  {
   "cell_type": "code",
   "execution_count": null,
   "id": "cf4aa09b-231d-4885-a9e0-e578a8578aba",
   "metadata": {},
   "outputs": [],
   "source": []
  }
 ],
 "metadata": {
  "kernelspec": {
   "display_name": "Python 3 (ipykernel)",
   "language": "python",
   "name": "python3"
  },
  "language_info": {
   "codemirror_mode": {
    "name": "ipython",
    "version": 3
   },
   "file_extension": ".py",
   "mimetype": "text/x-python",
   "name": "python",
   "nbconvert_exporter": "python",
   "pygments_lexer": "ipython3",
   "version": "3.11.7"
  }
 },
 "nbformat": 4,
 "nbformat_minor": 5
}
